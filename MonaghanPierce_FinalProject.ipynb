{
 "cells": [
  {
   "cell_type": "markdown",
   "id": "45552c77",
   "metadata": {},
   "source": [
    "# EAS 4610 Final Project - Gravity Waves\n",
    "By: Mallory Monaghan & Garrett Pierce\n",
    "# Video Walkthrough\n",
    "(insert video link)"
   ]
  },
  {
   "cell_type": "markdown",
   "id": "0ef76a89",
   "metadata": {},
   "source": [
    "# Introduction\n",
    "### Theme & Importance:\n",
    "Gravity waves are waves along the boundary of two mediums (e.g., atmosphere, ocean) that have a restorative gravitational force. When a displacement occurs, gravity acts to restore equilibrium along the boundary, leading to an oscillation. Shallow water gravity waves have interaction with the sea floor that leads to increased wave heights and decreased wavelengths. “Shallow” means that the depth of the fluid is very small compared to the horizontal perturbation. As a result, the waves propagate vertically and horizontally. Shallow gravity waves are important to study because they transport energy and momentum into the mid-levels of the atmosphere, leading to clear air turbulence (CAT).\n",
    "\n",
    "### Our Project:\n",
    "The theory behind gravity waves has been discussed in textbooks and lectures (Holton, 2004; Yu, 2023), but no papers were found that demonstrated the numerical modeling of shallow gravity waves. Due to the lack of numerical model history, our model setup uses the wave equation numerical methods and boundary conditions from Dr. Robel's class. In this study, the Earth is treated as a \"waterworld\" planet with no continents and an ocean depth of 4km at every location. Shallow gravity waves are along the ocean-atmosphere boundary to make use of the constants and mathematical simplifications of gravity waves demonstrated in Holton’s text (2004). "
   ]
  },
  {
   "cell_type": "markdown",
   "id": "d7808e1b",
   "metadata": {},
   "source": [
    "# Equations\n",
    "### Fundamental Physical Processes:\n",
    "Shallow water gravity waves are horizontally propagating oscillations produced by large-scale disturbances and they can only exist in the presence of a free surface or a density discontinuity (e.g., thermocline). In this case study, the fluid has a free surface that experiences upward and downward perturbations. The perturbations create a sinusoidal pattern moving at some velocity, *u*.\n",
    "\n",
    "### Relevant Equations, Derivations & Assumptions:\n",
    "The PDE governing shallow gravity waves is derived from the 1D momentum and continuity equations (Holton, 2004):\n",
    "\n",
    "$$\\frac{\\partial u}{\\partial t} + u\\frac{\\partial u}{\\partial x} + w\\frac{\\partial u}{\\partial z} = -\\frac{g \\delta \\rho}{\\rho_1} \\frac{\\partial h}{\\partial x}, \\frac{\\partial h}{\\partial t} + \\frac{\\partial}{\\partial x}(hu) = 0 \\$$\n",
    "$u = $ the zonal velocity in the x-direction\n",
    "\n",
    "$h = $ the water depth\n",
    "\n",
    "For simplification, the perturbation forms of $u$ and $h$ are used:\n",
    "$$u = \\bar{u} + u^{\\prime},\\, h = H + h^{\\prime}$$\n",
    "\n",
    "$\\bar{u} = $the mean velocity \n",
    "\n",
    "$u' = $ the local zonal velocity\n",
    "\n",
    "$H = $ the mean ocean depth\n",
    "\n",
    "$h' = $ the wave height\n",
    "\n",
    "For shallow gravity waves:\n",
    "\n",
    "$\\bar{u} = 0$\n",
    "\n",
    "$H \\gg |h^{\\prime}|$\n",
    "\n",
    "It is also assumed that $H$ varies only in space and $u^{\\prime}$ & $h^{\\prime}$ vary in space and time.\n",
    "\n",
    "Substituting the perturbation forms  of $u$ and $h$ into the 1D momentum and continuity equations yields equation 7.22 from Holton's *An Introduction to Dynamic Meteorology* (2004): \n",
    "\n",
    "$$\n",
    "\\left(\\frac{\\partial}{\\partial t}+u \\frac{\\partial}{\\partial x}\\right)^2 h^{\\prime}-\\frac{g H \\delta \\rho}{\\rho_1} \\frac{\\partial^2 h^{\\prime}}{\\partial x^2}=0 \n",
    "$$\n",
    "\n",
    "Through expansion of the above equation, terms expressing partial derivatives in both time and space appear. Given the extent of this course, those terms are neglected and approximated as zero: "
   ]
  },
  {
   "cell_type": "markdown",
   "id": "475153c3-adb9-4073-aea8-6eb5fc1a7891",
   "metadata": {},
   "source": [
    "$$\n",
    "\\begin{aligned}\n",
    "& \\left(\\frac{\\partial^2}{\\partial t^2}+u^2 \\frac{\\partial^2}{\\partial x^2}\\right) h^{\\prime}-\\frac{g H \\delta p}{\\rho_1} \\frac{\\partial^2 h^{\\prime}}{\\partial x^2} \\\\\n",
    "& \\frac{\\partial^2 h^1}{\\partial t^2}+u^2 \\frac{\\partial^2 h^{\\prime}}{\\partial x^2}-\\frac{g H \\delta \\rho}{\\rho_1} \\frac{\\partial^2 h^{\\prime}}{\\partial x^2} \\\\\n",
    "& \\frac{\\partial^2 h^{\\prime}}{\\partial t^2}+\\left(u^2-\\frac{g H \\delta p}{\\rho_1}\\right) \\frac{\\partial^2 h^{\\prime}}{\\partial x^2}=0 \\\\\n",
    "& \\frac{\\partial^2 h^{\\prime}}{\\partial t^2}+c \\frac{\\partial^2 h^{\\prime}}{\\partial x^2}=0 \\\\\n",
    "\\end{aligned}\n",
    "$$\n",
    "\n",
    "Given that the wave is along the boundary between water and air,  $\\partial \\rho_1 \\approx \\rho_1 $. The associated wave speed, $c$ can be described as: $\\quad c=u \\pm \\sqrt{g H}$  \n",
    "\n",
    "$ g = 9.81 \\mathrm{~m^{2}} / \\mathrm{s^{2}}$\n",
    "\n",
    "$\\sqrt{\\mathrm{g} H} \\approx 200 \\mathrm{~m} / \\mathrm{s}$ (when $H=4 \\mathrm{~km}$) "
   ]
  },
  {
   "cell_type": "markdown",
   "id": "2106c993",
   "metadata": {},
   "source": [
    "# Numerical Methods\n",
    " $\\frac{\\partial^2 h^{\\prime}}{\\partial t^2}+c \\frac{\\partial^2 h^{\\prime}}{\\partial x^2}=0$\n",
    "\n",
    "Due to the similarity of the above equation and the basic wave equation ($\\frac{\\partial^2 u}{\\partial t^2} = c^{2} \\frac{\\partial^2 u}{\\partial x^2}$), a centered difference method is used to discretize the function:\n",
    "$$\\frac{\\partial^2 h^{\\prime}}{\\partial t^2} = \\frac{h^{\\prime}(x_i,t_{k+1})-2h^{\\prime}(x_i,t_k)+h^{\\prime}(x_i,t_{k-1})}{\\Delta t^2}$$\n",
    "\n",
    "$$\\frac{\\partial^2 h^{\\prime}}{\\partial x^2} = \\frac{h^{\\prime}(x_{i+1},t_k)-2h^{\\prime}(x_i,t_k)+h^{\\prime}(x_{i-1},t_k)}{\\Delta x^2}$$\n",
    "\n",
    "Since $u = 0$, $c = \\sqrt{gH}$, the following can then be substituted into the discretizd wave equation:\n",
    "\n",
    "$\\lambda = \\frac{c\\Delta t}{\\Delta x} = \\frac{\\sqrt{gH}\\Delta t}{\\Delta x}$ (similar to the courant number)\n",
    "\n",
    "Through substitution and rearranging, the final equation is as follows:\n",
    "\n",
    "$$h^{\\prime k+1}_i = 2(1-\\lambda^2)h^{\\prime k}_i + \\lambda^2 (h^{\\prime k}_{i+1}+h^{\\prime k}_{i-1})- h^{\\prime k-1}_i$$\n",
    "\n",
    "Expressing the final equation in matrix form:\n",
    "\\begin{gather}\n",
    " \\begin{bmatrix}\n",
    " h^{\\prime k+1}_i \\\\\n",
    " \\end{bmatrix}\n",
    " =\n",
    " \\begin{bmatrix}\n",
    " 2(1-\\lambda^2) & \\lambda^2 & 0 & \\ldots & 0\\\\\n",
    " \\lambda^2 & 2(1-\\lambda^2) & \\lambda^2 &  & \\vdots \\\\\n",
    " 0 & \\lambda^2  & \\ddots & \\ddots\\\\\n",
    " \\vdots & & \\ddots\\\\\n",
    " 0 \\\\\n",
    " \\end{bmatrix}\n",
    "*\n",
    " \\begin{bmatrix}\n",
    " h^{\\prime k}_i \\\\\n",
    " \\end{bmatrix}\n",
    " -\n",
    " \\begin{bmatrix}\n",
    " h^{\\prime k-1}_i\\\\\n",
    " \\end{bmatrix}\n",
    "\\end{gather}"
   ]
  },
  {
   "cell_type": "markdown",
   "id": "3c5399e9",
   "metadata": {},
   "source": [
    "# Results & Figures\n",
    "The model is tested with two scenarios:\n",
    "1. Reflective case - the wave hits a wall and bounces back\n",
    "2. Mirror case - the wave hits a wall and bounces back upside down\n",
    "\n",
    "WE NEED AT LEAST 4 FIGURES\n"
   ]
  },
  {
   "cell_type": "code",
   "execution_count": 1,
   "id": "b0957ba9",
   "metadata": {},
   "outputs": [],
   "source": [
    "# import libraries\n",
    "import numpy as np\n",
    "import matplotlib.pyplot as plt\n",
    "from scipy.sparse import spdiags\n",
    "import matplotlib\n",
    "import matplotlib.animation as animation\n",
    "matplotlib.use(\"TkAgg\")"
   ]
  },
  {
   "cell_type": "code",
   "execution_count": 2,
   "id": "97e0ca11-2718-496d-9698-0e8c6e57b3c3",
   "metadata": {},
   "outputs": [
    {
     "name": "stdout",
     "output_type": "stream",
     "text": [
      "100\n"
     ]
    }
   ],
   "source": [
    "# parameters\n",
    "\n",
    "xf = 40075 #(km) circumference of earth at equator\n",
    "xt = xf #where you want the second wave speed to start\n",
    "tf = 7*24*3600 #(s) 7 days in seconds\n",
    "c1 = 0.2 #(km/s) zonal wave speed in shallow water (4km) \n",
    "\n",
    "lambdaSq = 0.9 # lambda squared needs to be equal to or less than 1, close to 1 is more stable \n",
    "\n",
    "# grid\n",
    "dx = 400.75 # km, so 100 gridspacings \n",
    "dt = np.sqrt(lambdaSq * dx**2 / c1**2)\n",
    "x = np.arange(0,xf,dx)\n",
    "t = np.arange(0,tf,dt)\n",
    "\n",
    "nx = len(x)\n",
    "nt = len(t)\n",
    "\n",
    "\n",
    "# changing wave speed\n",
    "lam = np.zeros(nx) #this is the lambda matrix\n",
    "lam[:] = c1*dt/dx #sets the first half of space to have wave speed 1\n",
    "#lam[x>xt] = c2*dt/dx #sets the second half of space to have wave speed 2\n",
    "\n",
    "\n",
    "# initial condition, ALL HAVE SAME INITIAL \n",
    "u_reflective = np.nan*np.ones([nx,nt])\n",
    "u_reflective[:,0] = np.exp(-(x[:]-0)**2 / 2) ## we have to initialize both 0th and 1th because of\n",
    "u_reflective[:,1] = np.exp(-(x[:]-0)**2 / 2) ## the presence of k-1 in the numerical equation. implies du/dt at t=0, =0\n",
    "u_mirror = u_reflective\n",
    "u_flux = u_reflective\n",
    "u_periodic = u_reflective\n",
    "\n",
    "\n",
    "# matrices\n",
    "data1 = np.array([(lam**2)*np.ones(nx), (2*(1-lam**2)*np.ones(nx))+0.000000001, (lam**2)*np.ones(nx)])\n",
    "diags1 = np.array([-1, 0, 1])\n",
    "M = spdiags(data1, diags1, nx, nx).toarray()\n",
    "\n",
    "M_reflective = M\n",
    "M_mirror = M \n",
    "\n",
    "#Reflective BC\n",
    "M_reflective[0,0] = 2-lam[0]**2\n",
    "M_reflective[nx-1,nx-1] = 2-lam[nx-1]**2\n",
    "\n",
    "#Mirror BC\n",
    "M_mirror[nx-1, nx-2] = 0\n",
    "M_mirror[nx-1,nx-1] = 1\n",
    "print(nx)"
   ]
  },
  {
   "cell_type": "code",
   "execution_count": 3,
   "id": "7a9644c6",
   "metadata": {
    "scrolled": true
   },
   "outputs": [
    {
     "name": "stdout",
     "output_type": "stream",
     "text": [
      "100\n"
     ]
    }
   ],
   "source": [
    "# solve\n",
    "for i in range(1,nt-1):\n",
    "    u_reflective[:,i+1] = M_reflective @ u_reflective[:,i] - u_reflective[:,i-1]\n",
    "    u_mirror[:,i+1] = M_mirror @ u_mirror[:,i] - u_mirror[:,i-1]\n",
    "    \n",
    "print(len(u_reflective))"
   ]
  },
  {
   "cell_type": "code",
   "execution_count": 4,
   "id": "bd01e575",
   "metadata": {},
   "outputs": [
    {
     "data": {
      "text/plain": [
       "Text(0.5, 1.0, 'Reflective Case')"
      ]
     },
     "execution_count": 4,
     "metadata": {},
     "output_type": "execute_result"
    }
   ],
   "source": [
    "fig, ax = plt.subplots(1,figsize = (8,5), dpi = 200)\n",
    "## plotting u at all space at different times\n",
    "ax.plot(x, u_reflective[:,0])\n",
    "ax.plot(x, u_reflective[:,50])\n",
    "ax.set_xlabel('x (km)'); ax.set_ylabel(\"h' (km)\")\n",
    "ax.set_title(\"Reflective Case\")"
   ]
  },
  {
   "cell_type": "code",
   "execution_count": 5,
   "id": "3ac851b0-6729-400c-8438-286eb25d047e",
   "metadata": {},
   "outputs": [
    {
     "data": {
      "text/plain": [
       "Text(0.5, 1.0, 'Mirror Case ')"
      ]
     },
     "execution_count": 5,
     "metadata": {},
     "output_type": "execute_result"
    }
   ],
   "source": [
    "fig, ax = plt.subplots(1,figsize = (8,5), dpi = 200)\n",
    "## plotting u at all space at different times\n",
    "ax.plot(x, u_mirror[:,0])\n",
    "ax.plot(x, u_mirror[:,50])\n",
    "ax.set_xlabel('x (km)'); ax.set_ylabel(\"h' (km)\")\n",
    "ax.set_title(\"Mirror Case \")"
   ]
  },
  {
   "cell_type": "code",
   "execution_count": 6,
   "id": "02f85069",
   "metadata": {
    "scrolled": true
   },
   "outputs": [],
   "source": [
    "# Reflection Animation \n",
    "animation_multiplier = 1 # Make this higher to make animation faster\n",
    "fig_ref, ax_ref = plt.subplots()\n",
    "ax_ref.set_xlabel('x (km)'); ax.set_ylabel(\"h' (km)\")\n",
    "ax_ref.set_title(\"Reflective Case\")\n",
    "\n",
    "\n",
    "\n",
    "line_ref, = ax_ref.plot(x, u_reflective[:,0]) #ADJUST THIS LINE\n",
    "ax_ref.set_ylim([np.min(u_reflective), np.max(u_reflective)])\n",
    "\n",
    "def animate_ref(i):\n",
    "    line_ref.set_ydata(u_reflective[:, i*animation_multiplier]) \n",
    "    return line_ref,\n",
    "\n",
    "num_frames_ref = u_reflective.shape[1] # DO NOT TOUCH \n",
    "num_interval_ref = 10 # DO NOT TOUCH \n",
    "\n",
    "ani_reflective = animation.FuncAnimation(\n",
    "    fig_ref, animate_ref,frames=num_frames_ref, interval=num_interval_ref) #interval is in ms, lower means faster animation\n"
   ]
  },
  {
   "cell_type": "code",
   "execution_count": 7,
   "id": "ad4162aa-6f81-4512-be20-5a32094baede",
   "metadata": {},
   "outputs": [],
   "source": [
    "# Mirror  Animation \n",
    "animation_multiplier = 1 # Make this higher to make animation faster\n",
    "fig_mir, ax_mir = plt.subplots()\n",
    "ax_mir.set_xlabel('x (km)'); ax.set_ylabel(\"h' (km)\")\n",
    "ax_mir.set_title(\"Mirror Case\")\n",
    "\n",
    "\n",
    "line_mir, = ax_mir.plot(x, u_mirror[:,0]) #ADJUST THIS LINE\n",
    "ax_mir.set_ylim([np.min(u_mirror), np.max(u_mirror)])\n",
    "\n",
    "def animate_mir(i):\n",
    "    line_mir.set_ydata(u_mirror[:, i*animation_multiplier]) \n",
    "    return line_mir,\n",
    "\n",
    "num_frames_mir = u_reflective.shape[1] # DO NOT TOUCH \n",
    "num_interval_mir = 10 # DO NOT TOUCH \n",
    "\n",
    "ani_mirror = animation.FuncAnimation(\n",
    "    fig_mir, animate_mir,frames=num_frames_mir, interval=num_interval_mir) \n",
    "\n",
    "plt.show() #ONLY ONE PLT.SHOW()\n",
    "\n",
    "# Animations will run at the same time"
   ]
  },
  {
   "cell_type": "markdown",
   "id": "8ba5617d",
   "metadata": {},
   "source": [
    "### Simulations & Model Results:\n",
    "\n",
    "### Varying Time Steps & Grid Spacing:\n",
    "\n",
    "### Future Work & Improvements:\n",
    "\n",
    "### Conclusions:"
   ]
  },
  {
   "cell_type": "markdown",
   "id": "f23b9475",
   "metadata": {},
   "source": [
    "# References\n",
    "Holton, J. R. (2004). An introduction to dynamic meteorology. In International Geophysics (Vol. 88). https://doi.org/10.1016/s0074-6142(08)x6005-x\n",
    "\n",
    "Yu, Jin-Yi. Waves in the atmosphere and oceans. Department of Earth System Science. Accessed 28 November 2023. https://vdocuments.mx/waves-in-the-atmosphere-and-oceanswaves-in-the-yuclassess228lecture6-waves.html \n"
   ]
  }
 ],
 "metadata": {
  "kernelspec": {
   "display_name": "Python 3 (ipykernel)",
   "language": "python",
   "name": "python3"
  },
  "language_info": {
   "codemirror_mode": {
    "name": "ipython",
    "version": 3
   },
   "file_extension": ".py",
   "mimetype": "text/x-python",
   "name": "python",
   "nbconvert_exporter": "python",
   "pygments_lexer": "ipython3",
   "version": "3.11.5"
  }
 },
 "nbformat": 4,
 "nbformat_minor": 5
}
