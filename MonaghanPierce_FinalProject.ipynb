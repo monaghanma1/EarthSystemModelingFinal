{
 "cells": [
  {
   "cell_type": "code",
   "execution_count": 1,
   "id": "792d9b3c",
   "metadata": {},
   "outputs": [],
   "source": [
    "import numpy as np\n",
    "import matplotlib.pyplot as plt\n",
    "from scipy.sparse import spdiags"
   ]
  },
  {
   "cell_type": "code",
   "execution_count": null,
   "id": "d6590b30",
   "metadata": {},
   "outputs": [],
   "source": [
    "# parameters\n",
    "alpha1 = 1\n",
    "alpha2 = 2\n",
    "\n",
    "L = 30.0\n",
    "xt = 15\n",
    "tf = 100.0\n",
    "\n",
    "# grid\n",
    "nx = 301\n",
    "nt = 10000\n",
    "\n",
    "x = np.linspace(0,L,nx)\n",
    "t = np.linspace(0,tf,nt)\n",
    "\n",
    "dt = t[1]-t[0]\n",
    "dx = x[1]-x[0]\n",
    "\n",
    "lam = np.zeros(nx)\n",
    "lam[x<=xt] = alpha1*dt/dx\n",
    "lam[x>xt] = alpha2*dt/dx\n",
    "\n",
    "# initial condition\n",
    "u = np.nan*np.ones([nx,nt])\n",
    "u[:,0] = np.exp(-(x**2) / 2)\n",
    "u[:,1] = np.exp(-(x**2) / 2)\n",
    "\n",
    "# matrix\n",
    "data = np.array([(lam**2)*np.ones(nx), 2*(1-lam**2)*np.ones(nx), (lam**2)*np.ones(nx)])\n",
    "diags = np.array([-1, 0, 1])\n",
    "M = spdiags(data, diags, nx, nx).toarray()\n",
    "\n",
    "# boundary condition\n",
    "#Reflective BC\n",
    "M[0,0] = 2-lam[0]**2\n",
    "M[-1,-1] = 2-lam[-1]**2\n",
    "\n",
    "# solve\n",
    "for k in np.arange(nt-2):\n",
    "    u[:,k+2] = np.matmul(M,u[:,k+1]) - u[:,k]"
   ]
  },
  {
   "cell_type": "code",
   "execution_count": null,
   "id": "5e88f8c7",
   "metadata": {},
   "outputs": [],
   "source": []
  }
 ],
 "metadata": {
  "kernelspec": {
   "display_name": "Python 3 (ipykernel)",
   "language": "python",
   "name": "python3"
  },
  "language_info": {
   "codemirror_mode": {
    "name": "ipython",
    "version": 3
   },
   "file_extension": ".py",
   "mimetype": "text/x-python",
   "name": "python",
   "nbconvert_exporter": "python",
   "pygments_lexer": "ipython3",
   "version": "3.11.5"
  }
 },
 "nbformat": 4,
 "nbformat_minor": 5
}
