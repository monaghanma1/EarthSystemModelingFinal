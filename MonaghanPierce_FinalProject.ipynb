{
 "cells": [
  {
   "cell_type": "markdown",
   "id": "0ef76a89",
   "metadata": {},
   "source": [
    "# Introduction\n",
    "Gravity waves are waves along the boundary of two mediums (e.g., atmosphere, ocean) that have a restorative gravitational force. When a displacement occurs, gravity acts to restore equilibrium along the boundary, leading to an oscillation. Shallow water gravity waves have interaction with the sea floor that leads to increased wave heights and decreased wavelengths. “Shallow” means that the depth of the fluid is very small compared to the horizontal perturbation. As a result, the waves propagate vertically and horizontally. Shallow gravity waves are important to study because they transport energy and momentum into the mid-levels of the atmosphere, leading to clear air turbulence (CAT).\n",
    "\n",
    "In this study, the Earth will be treated as a water planet with no continents and a depth of 4km at every location. Shallow gravity waves will be along the ocean-atmosphere boundary to make use of the constants and simplifications demonstrated in Holton’s text.\n"
   ]
  },
  {
   "cell_type": "markdown",
   "id": "d7808e1b",
   "metadata": {},
   "source": [
    "# Equations\n",
    "Shallow water gravity waves are horizontally propagating oscillations produced by large-scale disturbances and they can only exist in the presence of a free surface or a density discontinuity (thermocline). In this case study, the fluid has a free surface that experiences upward and downward perturbations. The perturbations create a sinusoidal pattern moving at some velocity, *u*.\n",
    "\n",
    "We assume that the two fluids are incrompressible in order to exclude sound waves and isolate gravity waves.\n",
    "\n",
    "The perturbation forms below are useful for this situation.\n",
    "\n",
    "$u=\\bar{u}+u^{\\prime}, \\quad h=H+h^{\\prime}$\n",
    "\n",
    "H is the mean depth of the lower layer and \\bar{u} is a constant basic state zonal velocity. \n",
    "\n",
    "We are solving equation 7.22 from Holton's *An Introduction to Dynamic Meteorology* (2004): \n",
    "\n",
    "$$\n",
    "\\left(\\frac{\\partial}{\\partial t}+u \\frac{\\partial}{\\partial x}\\right)^2 h^{\\prime}-\\frac{g H \\delta \\rho}{\\rho_1} \\frac{\\partial^2 h^{\\prime}}{\\partial x^2}=0 \n",
    "$$\n",
    "Expansion yields can be used to cancel terms in the first parenthesis: "
   ]
  },
  {
   "cell_type": "markdown",
   "id": "475153c3-adb9-4073-aea8-6eb5fc1a7891",
   "metadata": {},
   "source": [
    "$$\n",
    "\\begin{aligned}\n",
    "& \\left(\\frac{\\partial^2}{\\partial t^2}+u^2 \\frac{\\partial^2}{\\partial x^2}\\right) h^{\\prime}-\\frac{g H \\delta p}{\\rho_1} \\frac{\\partial^2 h^{\\prime}}{\\partial x^2} \\\\\n",
    "& \\frac{\\partial^2 h^1}{\\partial t^2}+u^2 \\frac{\\partial^2 h^{\\prime}}{\\partial x^2}-\\frac{g H \\delta \\rho}{\\rho_1} \\frac{\\partial^2 h^{\\prime}}{\\partial x^2} \\\\\n",
    "& \\frac{\\partial^2 h^{\\prime}}{\\partial t^2}+\\left(u^2-\\frac{g H \\delta p}{\\rho_1}\\right) \\frac{\\partial^2 h^{\\prime}}{\\partial x^2}=0 \\\\\n",
    "& \\frac{\\partial^2 h^{\\prime}}{\\partial t^2}+c \\frac{\\partial^2 h^{\\prime}}{\\partial x^2}=0 \\\\\n",
    "\\end{aligned}\n",
    "$$\n"
   ]
  },
  {
   "cell_type": "markdown",
   "id": "1ae158f3-888b-41a7-8010-32a5f227ef84",
   "metadata": {},
   "source": [
    "phase speed, $c: \\quad c=u \\pm \\sqrt{g H}$  \n",
    "\n",
    "Upper and lower layers are water and air. So, $\\partial \\rho_1 \\approx \\rho_1 $\n",
    "\n",
    "$\\sqrt{\\mathrm{g} H} \\approx 200 \\mathrm{~m} / \\mathrm{s}$ when $H=4 \\mathrm{~km}$ as produced by large-scale disturbances, not wind\n",
    "\n",
    " $\\frac{\\partial^2 h}{\\partial t^2}+c \\frac{\\partial^2 h}{\\partial x^2}=0$\n",
    "\n",
    "We will use this derivation to produce a simple two-dimensional model that has a flux boundary condition and a free surface. "
   ]
  },
  {
   "cell_type": "markdown",
   "id": "31364d0c",
   "metadata": {},
   "source": [
    "$$ \\begin{align} u^{n+1}_i &= -u^{n-1}_i + 2u^n_i + 2C^2 \\left(u^{n}_{i+1}-u^{n}_{i}\\right),\\quad i=0\\\\ u^{n+1}_i &= -u^{n-1}_i + 2u^n_i + 2C^2 \\left(u^{n}_{i-1}-u^{n}_{i}\\right),\\quad i=N_x \\end{align} $$\n"
   ]
  },
  {
   "cell_type": "markdown",
   "id": "2106c993",
   "metadata": {},
   "source": [
    "## Numerical Methods"
   ]
  },
  {
   "cell_type": "code",
   "execution_count": 1,
   "id": "b0957ba9",
   "metadata": {},
   "outputs": [],
   "source": [
    "import numpy as np\n",
    "import matplotlib.pyplot as plt\n",
    "from scipy.sparse import spdiags\n",
    "import matplotlib\n",
    "import matplotlib.animation as animation\n",
    "matplotlib.use(\"TkAgg\")"
   ]
  },
  {
   "cell_type": "code",
   "execution_count": 2,
   "id": "466bb1da",
   "metadata": {},
   "outputs": [],
   "source": [
    "# parameters\n",
    "\n",
    "xf = 24900*1000 #(m) circumference of earth at equator\n",
    "xt = xf/2 #where you want the second wave speed to start\n",
    "tf = 7*24*3600 #(s) 7 days in seconds\n",
    "gH = 200 #(m/s) zonal wave speed in shallow water (4km)\n",
    "\n",
    "# grid\n",
    "dx = 24900\n",
    "dt = 60\n",
    "#dt = C*dx/c \n",
    "x = np.arange(0,xf,dx)\n",
    "t = np.arange(0,tf,dt)\n",
    "\n",
    "nx = len(x)\n",
    "nt = len(t)\n",
    "\n",
    "uv1 = 10 #average zonal velocity\n",
    "\n",
    "# uv1 = 10 #average zonal velocity\n",
    "# uv2 = -10 #average zonal velocity\n",
    "\n",
    "# wave speed\n",
    "c1 = (uv1 + gH)\n",
    "c2 = (uv1 - gH)\n",
    "\n",
    "# changing wave speed\n",
    "lam = np.zeros(nx) #this is the lambda matrix\n",
    "lam[x<=xt] = c1*dt/dx #sets the first half of space to have wave speed 1\n",
    "lam[x>xt] = c2*dt/dx #sets the second half of space to have wave speed 2\n",
    "\n",
    "# initial condition, ALL HAVE SAME INITIAL \n",
    "u_reflective = np.nan*np.ones([nx,nt])\n",
    "u_reflective[:,0] = np.exp(-(x[:]-0)**2 / 2) ## we have to initialize both 0th and 1th because of\n",
    "u_reflective[:,1] = np.exp(-(x[:]-0)**2 / 2) ## the presence of k-1 in the numerical equation. implies du/dt at t=0, =0\n",
    "u_mirror = u_reflective\n",
    "u_flux = u_reflective\n",
    "u_periodic = u_reflective\n",
    "\n",
    "\n",
    "# matrices\n",
    "data1 = np.array([(lam**2)*np.ones(nx), 2*(1-lam**2)*np.ones(nx), (lam**2)*np.ones(nx)])\n",
    "diags1 = np.array([-1, 0, 1])\n",
    "M = spdiags(data1, diags1, nx, nx).toarray()\n",
    "\n",
    "M_reflective = M\n",
    "M_mirror = M \n",
    "M_flux = M \n",
    "M_periodic = M \n",
    "\n",
    "#Reflective BC\n",
    "M_reflective[0,0] = 2-lam[0]**2\n",
    "M_reflective[nx-1,nx-1] = 2-lam[nx-1]**2\n",
    "\n",
    "#Mirror BC\n",
    "M_mirror[nx-1, nx-2] = 0\n",
    "M_mirror[nx-1,nx-1] = 1\n",
    "\n",
    "#Flux BC\n",
    "\n",
    "#Periodic BC "
   ]
  },
  {
   "cell_type": "code",
   "execution_count": 3,
   "id": "7a9644c6",
   "metadata": {
    "scrolled": true
   },
   "outputs": [],
   "source": [
    "# solve\n",
    "for i in range(1,nt-1):\n",
    "    u_reflective[:,i+1] = M_reflective @ u_reflective[:,i] - u_reflective[:,i-1]\n",
    "    u_mirror[:,i+1] = M_mirror @ u_mirror[:,i] - u_mirror[:,i-1]\n",
    "    \n",
    "    "
   ]
  },
  {
   "cell_type": "markdown",
   "id": "8ba5617d",
   "metadata": {},
   "source": [
    "## Results"
   ]
  },
  {
   "cell_type": "markdown",
   "id": "2f05db69",
   "metadata": {},
   "source": [
    "## Figures"
   ]
  },
  {
   "cell_type": "code",
   "execution_count": 4,
   "id": "bd01e575",
   "metadata": {},
   "outputs": [
    {
     "name": "stderr",
     "output_type": "stream",
     "text": [
      "No artists with labels found to put in legend.  Note that artists whose label start with an underscore are ignored when legend() is called with no argument.\n"
     ]
    },
    {
     "data": {
      "text/plain": [
       "<matplotlib.legend.Legend at 0x7f91e1fad910>"
      ]
     },
     "execution_count": 4,
     "metadata": {},
     "output_type": "execute_result"
    }
   ],
   "source": [
    "fig, ax = plt.subplots(1,figsize = (8,5), dpi = 200)\n",
    "## plotting u at all space at different times\n",
    "ax.plot(x, u_reflective[:,0])\n",
    "ax.plot(x, u_reflective[:,50])\n",
    "ax.set_xlabel('x'); ax.set_ylabel('u')\n",
    "ax.set_title(\"Reflective Case\")\n",
    "ax.legend()"
   ]
  },
  {
   "cell_type": "code",
   "execution_count": 5,
   "id": "3ac851b0-6729-400c-8438-286eb25d047e",
   "metadata": {},
   "outputs": [
    {
     "name": "stderr",
     "output_type": "stream",
     "text": [
      "No artists with labels found to put in legend.  Note that artists whose label start with an underscore are ignored when legend() is called with no argument.\n"
     ]
    },
    {
     "data": {
      "text/plain": [
       "<matplotlib.legend.Legend at 0x7f91d1b81340>"
      ]
     },
     "execution_count": 5,
     "metadata": {},
     "output_type": "execute_result"
    }
   ],
   "source": [
    "fig, ax = plt.subplots(1,figsize = (8,5), dpi = 200)\n",
    "## plotting u at all space at different times\n",
    "ax.plot(x, u_mirror[:,0])\n",
    "ax.plot(x, u_mirror[:,50])\n",
    "ax.set_xlabel('x'); ax.set_ylabel('u')\n",
    "ax.set_title(\"Mirror Case \")\n",
    "ax.legend()"
   ]
  },
  {
   "cell_type": "markdown",
   "id": "45552c77",
   "metadata": {},
   "source": [
    "### Video Walkthrough\n",
    "(insert video link)"
   ]
  },
  {
   "cell_type": "markdown",
   "id": "f23b9475",
   "metadata": {},
   "source": [
    "## Reference\n",
    "Holton, J. R. (2004). An introduction to dynamic meteorology. In International Geophysics (Vol. 88). https://doi.org/10.1016/s0074-6142(08)x6005-x"
   ]
  },
  {
   "cell_type": "code",
   "execution_count": null,
   "id": "02f85069",
   "metadata": {
    "scrolled": true
   },
   "outputs": [],
   "source": [
    "# Reflection Animation \n",
    "animation_multiplier = 15 # Make this higher to make animation faster\n",
    "fig, ax = plt.subplots()\n",
    "\n",
    "\n",
    "line, = ax.plot(x, u_reflective[:,0]) #ADJUST THIS LINE\n",
    "ax.set_ylim([np.min(u_reflective), np.max(u_reflective)])\n",
    "\n",
    "def animate(i):\n",
    "    line.set_ydata(u_reflective[:, i*animation_multiplier]) \n",
    "    return line,\n",
    "\n",
    "num_frames = u_reflective.shape[1] # DO NOT TOUCH \n",
    "num_interval = 10 # DO NOT TOUCH \n",
    "\n",
    "ani = animation.FuncAnimation(\n",
    "    fig, animate,frames=num_frames, interval=num_interval) #interval is in ms, lower means faster animation\n",
    "\n",
    "\n",
    "plt.show()"
   ]
  },
  {
   "cell_type": "code",
   "execution_count": null,
   "id": "ad4162aa-6f81-4512-be20-5a32094baede",
   "metadata": {},
   "outputs": [],
   "source": [
    "# Mirror  Animation \n",
    "animation_multiplier = 15 # Make this higher to make animation faster\n",
    "fig, ax = plt.subplots()\n",
    "\n",
    "\n",
    "line, = ax.plot(x, u_mirror[:,0]) #ADJUST THIS LINE\n",
    "ax.set_ylim([np.min(u_mirror), np.max(u_mirror)])\n",
    "\n",
    "def animate(i):\n",
    "    line.set_ydata(u_mirror[:, i*animation_multiplier]) \n",
    "    return line,\n",
    "\n",
    "num_frames = u_reflective.shape[1] # DO NOT TOUCH \n",
    "num_interval = 10 # DO NOT TOUCH \n",
    "\n",
    "ani = animation.FuncAnimation(\n",
    "    fig, animate,frames=num_frames, interval=num_interval) #interval is in ms, lower means faster animation\n",
    "\n",
    "plt.show()"
   ]
  }
 ],
 "metadata": {
  "kernelspec": {
   "display_name": "Python 3 (ipykernel)",
   "language": "python",
   "name": "python3"
  },
  "language_info": {
   "codemirror_mode": {
    "name": "ipython",
    "version": 3
   },
   "file_extension": ".py",
   "mimetype": "text/x-python",
   "name": "python",
   "nbconvert_exporter": "python",
   "pygments_lexer": "ipython3",
   "version": "3.11.5"
  }
 },
 "nbformat": 4,
 "nbformat_minor": 5
}
