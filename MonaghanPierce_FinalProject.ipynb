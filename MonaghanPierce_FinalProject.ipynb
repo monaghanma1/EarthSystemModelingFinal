{
 "cells": [
  {
   "cell_type": "markdown",
   "id": "d7808e1b",
   "metadata": {},
   "source": [
    "# Introduction\n",
    "### Shallow water gravity waves\n",
    "\n"
   ]
  },
  {
   "cell_type": "markdown",
   "id": "10be7300",
   "metadata": {},
   "source": [
    "## Equations\n",
    "# "
   ]
  },
  {
   "cell_type": "markdown",
   "id": "2106c993",
   "metadata": {},
   "source": [
    "## Numerical Methods"
   ]
  },
  {
   "cell_type": "code",
   "execution_count": 2,
   "id": "b0957ba9",
   "metadata": {},
   "outputs": [],
   "source": [
    "import numpy as np\n",
    "import matplotlib.pyplot as plt\n",
    "from scipy.sparse import spdiags"
   ]
  },
  {
   "cell_type": "code",
   "execution_count": 16,
   "id": "eeeeda1a",
   "metadata": {},
   "outputs": [],
   "source": [
    "# parameters\n",
    "\n",
    "xf = 40075*1000 #(m) circumference of earth at equator\n",
    "tf = 14*24*3600 #(s) 14 days in seconds\n",
    "g = 9.81 # gravitational constant\n",
    "gH = 200 #(m/s) zonal wave speed in shallow water\n",
    "\n",
    "# grid\n",
    "nx = 1000\n",
    "nt = 1000\n",
    "\n",
    "x = np.linspace(0,xf,nx)\n",
    "t = np.linspace(0,tf,nt)\n",
    "\n",
    "dt = t[1]-t[0]\n",
    "dx = x[1]-x[0]\n",
    "\n",
    "u1 = 1 #average zonal velocity is much smaller in magnitude than the shallow water wave speed\n",
    "u2 = -1 #average zonal velocity is much smaller in magnitude than the shallow water wave speed\n",
    "\n",
    "c1 = (u2 + gH)\n",
    "c2 = (u2 - gH)\n",
    "lam = np.zeros(nx)\n",
    "lam[x<=nt] = u1*dt/dx\n",
    "lam[x>nt] = u2*dt/dx\n",
    "\n",
    "# initial condition\n",
    "u = np.nan*np.ones([nx,nt])\n",
    "u[:,0] = np.exp(-(x**2) / 2)\n",
    "u[:,1] = np.exp(-(x**2) / 2)\n",
    "\n",
    "# matrix\n",
    "data = np.array([(lam**2)*np.ones(nx), 2*(1-lam**2)*np.ones(nx), (lam**2)*np.ones(nx)])\n",
    "diags = np.array([-1, 0, 1])\n",
    "M = spdiags(data, diags, nx, nx).toarray()\n",
    "\n",
    "#Reflective BC\n",
    "M[0,0] = 2-lam[0]**2\n",
    "M[-1,-1] = 2-lam[-1]**2\n",
    "\n",
    "# solve\n",
    "for k in np.arange(nt-2):\n",
    "    u[:,k+2] = np.matmul(M,u[:,k+1]) - u[:,k]"
   ]
  },
  {
   "cell_type": "code",
   "execution_count": 17,
   "id": "e0e6fa43",
   "metadata": {},
   "outputs": [
    {
     "data": {
      "text/plain": [
       "1000"
      ]
     },
     "execution_count": 17,
     "metadata": {},
     "output_type": "execute_result"
    }
   ],
   "source": [
    "len(t)"
   ]
  },
  {
   "cell_type": "markdown",
   "id": "8ba5617d",
   "metadata": {},
   "source": [
    "## Results"
   ]
  },
  {
   "cell_type": "markdown",
   "id": "2f05db69",
   "metadata": {},
   "source": [
    "## Figures"
   ]
  },
  {
   "cell_type": "markdown",
   "id": "45552c77",
   "metadata": {},
   "source": [
    "## Video Walkthrough"
   ]
  },
  {
   "cell_type": "markdown",
   "id": "f23b9475",
   "metadata": {},
   "source": [
    "## References"
   ]
  },
  {
   "cell_type": "code",
   "execution_count": null,
   "id": "88fac76b",
   "metadata": {},
   "outputs": [],
   "source": []
  }
 ],
 "metadata": {
  "kernelspec": {
   "display_name": "Python 3 (ipykernel)",
   "language": "python",
   "name": "python3"
  },
  "language_info": {
   "codemirror_mode": {
    "name": "ipython",
    "version": 3
   },
   "file_extension": ".py",
   "mimetype": "text/x-python",
   "name": "python",
   "nbconvert_exporter": "python",
   "pygments_lexer": "ipython3",
   "version": "3.11.5"
  }
 },
 "nbformat": 4,
 "nbformat_minor": 5
}
