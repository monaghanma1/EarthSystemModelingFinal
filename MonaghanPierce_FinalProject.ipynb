{
 "cells": [
  {
   "cell_type": "markdown",
   "id": "d7808e1b",
   "metadata": {},
   "source": [
    "# Introduction\n",
    "#### Shallow water gravity waves are produced by large-scale disturbances and they can only exist in the presence of a free surface or a density discontinuity (thermocline). In this case study, the fluid has a free surface that experiences upward and downward perturbations. The perturbations create a sinusoidal pattern moving at some velocity, u.\n",
    "\n"
   ]
  },
  {
   "cell_type": "markdown",
   "id": "10be7300",
   "metadata": {},
   "source": [
    "## Equations\n",
    "# "
   ]
  },
  {
   "cell_type": "markdown",
   "id": "2106c993",
   "metadata": {},
   "source": [
    "## Numerical Methods"
   ]
  },
  {
   "cell_type": "code",
   "execution_count": 37,
   "id": "b0957ba9",
   "metadata": {},
   "outputs": [],
   "source": [
    "import numpy as np\n",
    "import matplotlib.pyplot as plt\n",
    "from scipy.sparse import spdiags"
   ]
  },
  {
   "cell_type": "code",
   "execution_count": 74,
   "id": "466bb1da",
   "metadata": {},
   "outputs": [
    {
     "name": "stdout",
     "output_type": "stream",
     "text": [
      "249 87\n"
     ]
    }
   ],
   "source": [
    "# parameters\n",
    "xf = 24900*1000 #(m) circumference of earth at equator\n",
    "tf = 24*3600 #(s) 1 day in seconds\n",
    "gH = 200 #(m/s) zonal wave speed in shallow water (4km)\n",
    "\n",
    "# grid\n",
    "dx = 100000\n",
    "dt = 1000\n",
    "x = np.arange(0,xf,dx)\n",
    "t = np.arange(0,tf,dt)\n",
    "\n",
    "nx = len(x)\n",
    "nt = len(t)\n",
    "\n",
    "u1 = 10 #average zonal velocity\n",
    "u2 = -10 #average zonal velocity\n",
    "\n",
    "# wave speed\n",
    "c1 = (u2 + gH)\n",
    "c2 = (u2 - gH)\n",
    "\n",
    "# changing wave speed\n",
    "lam1 = np.zeros(nx)\n",
    "for i in np.arange(nx):\n",
    "    lam1[i] = c1*dt/dx\n",
    "\n",
    "lam2 = np.zeros(nx) \n",
    "for i in np.arange(nx):\n",
    "    lam2[i] = c2*dt/dx \n",
    "\n",
    "# initial condition\n",
    "u1 = np.nan*np.ones([nx,nt])\n",
    "u1[:,0] = np.exp(-(x**2) / 2) #unsure about initial conditions should be\n",
    "u1[:,1] = np.exp(-(x**2) / 2)\n",
    "\n",
    "u2 = np.nan*np.ones([nx,nt])\n",
    "u2[:,0] = np.exp(-(x**2) / 2) #unsure about initial conditions should be\n",
    "u2[:,1] = np.exp(-(x**2) / 2)\n",
    "\n",
    "# matrices\n",
    "data1 = np.array([(lam1**2)*np.ones(nx), 2*(1-lam1**2)*np.ones(nx), (lam1**2)*np.ones(nx)])\n",
    "diags1 = np.array([-1, 0, 1])\n",
    "M1 = spdiags(data, diags, nx, nx).toarray()\n",
    "\n",
    "data2 = np.array([(lam2**2)*np.ones(nx), 2*(1-lam2**2)*np.ones(nx), (lam2**2)*np.ones(nx)])\n",
    "diags2 = np.array([-1, 0, 1])\n",
    "M2 = spdiags(data, diags, nx, nx).toarray()\n",
    "\n",
    "#Reflective BC\n",
    "M2[0,0]= 2 - lam**2\n",
    "M2[nx-1,nx-1] = 2 - lam**2\n",
    "\n",
    "print(len(x), len(t))"
   ]
  },
  {
   "cell_type": "code",
   "execution_count": 75,
   "id": "7a9644c6",
   "metadata": {
    "scrolled": true
   },
   "outputs": [],
   "source": [
    "# solve\n",
    "for k in np.arange(nt-2):\n",
    "    u1[:,k+2] = np.matmul(M1,u1[:,k+1]) - u1[:,k]\n",
    "for k in np.arange(nt-2):\n",
    "    u2[:,k+2] = np.matmul(M2,u2[:,k+1]) - u2[:,k]"
   ]
  },
  {
   "cell_type": "code",
   "execution_count": 80,
   "id": "88fac76b",
   "metadata": {
    "scrolled": true
   },
   "outputs": [
    {
     "data": {
      "text/plain": [
       "[<matplotlib.lines.Line2D at 0x13d8c2490>]"
      ]
     },
     "execution_count": 80,
     "metadata": {},
     "output_type": "execute_result"
    },
    {
     "data": {
      "image/png": "[encoded data removed]",
      "text/plain": [
       "<Figure size 640x480 with 1 Axes>"
      ]
     },
     "metadata": {},
     "output_type": "display_data"
    }
   ],
   "source": [
    "plt.plot(x,u1[:,50])\n",
    "plt.plot(x,u2[:,50])"
   ]
  },
  {
   "cell_type": "markdown",
   "id": "8ba5617d",
   "metadata": {},
   "source": [
    "## Results"
   ]
  },
  {
   "cell_type": "markdown",
   "id": "2f05db69",
   "metadata": {},
   "source": [
    "## Figures"
   ]
  },
  {
   "cell_type": "markdown",
   "id": "45552c77",
   "metadata": {},
   "source": [
    "## Video Walkthrough"
   ]
  },
  {
   "cell_type": "markdown",
   "id": "f23b9475",
   "metadata": {},
   "source": [
    "## Reference\n",
    "#### Holton, J. R. (2004). An introduction to dynamic meteorology. In International Geophysics (Vol. 88). https://doi.org/10.1016/s0074-6142(08)x6005-x"
   ]
  },
  {
   "cell_type": "code",
   "execution_count": null,
   "id": "02f85069",
   "metadata": {},
   "outputs": [],
   "source": []
  }
 ],
 "metadata": {
  "kernelspec": {
   "display_name": "Python 3 (ipykernel)",
   "language": "python",
   "name": "python3"
  },
  "language_info": {
   "codemirror_mode": {
    "name": "ipython",
    "version": 3
   },
   "file_extension": ".py",
   "mimetype": "text/x-python",
   "name": "python",
   "nbconvert_exporter": "python",
   "pygments_lexer": "ipython3",
   "version": "3.11.5"
  }
 },
 "nbformat": 4,
 "nbformat_minor": 5
}
