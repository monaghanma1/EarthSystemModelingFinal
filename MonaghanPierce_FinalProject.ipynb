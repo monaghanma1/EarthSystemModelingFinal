{
 "cells": [
  {
   "cell_type": "markdown",
   "id": "d7808e1b",
   "metadata": {},
   "source": [
    "# Introduction\n",
    "Shallow water gravity waves are horizontally propagating oscillations produced by large-scale disturbances and they can only exist in the presence of a free surface or a density discontinuity (thermocline). In this case study, the fluid has a free surface that experiences upward and downward perturbations. The perturbations create a sinusoidal pattern moving at some velocity, *u*.\n",
    "\n",
    "We assume that the two fluids are incrompressible in order to exclude sound waves and isolate gravity waves.\n",
    "\n",
    "The perturbation forms below are useful for this situation.\n",
    "\n",
    "$u=\\bar{u}+u^{\\prime}, \\quad h=H+h^{\\prime}$\n",
    "\n",
    "H is the mean depth of the lower layer and \\bar{u} is a constant basic state zonal velocity. \n",
    "\n",
    "We are solving equation 7.22 from Holton's *An Introduction to Dynamic Meteorology* (2004): \n",
    "\n",
    "$$\n",
    "\\left(\\frac{\\partial}{\\partial t}+\\bar{u} \\frac{\\partial}{\\partial x}\\right)^2 h^{\\prime}-\\frac{g H \\delta \\rho}{\\rho_1} \\frac{\\partial^2 h^{\\prime}}{\\partial x^2}=0 \n",
    "$$\n",
    "Expansion yields can be used to cancel terms in the first parenthesis: \n",
    "$$\n",
    "\\begin{aligned}\n",
    "\n",
    "\n",
    "& \\left(\\frac{\\partial^2}{\\partial t^2}+u^2 \\frac{\\partial^2}{\\partial x^2}\\right) h^{\\prime}-\\frac{g H \\delta p}{\\rho_1} \\frac{\\partial^2 h^{\\prime}}{\\partial x^2} \\\\\n",
    "& \\frac{\\partial^2 h^1}{\\partial t^2}+u^2 \\frac{\\partial^2 h^{\\prime}}{\\partial x^2}-\\frac{g+1 \\delta \\rho}{\\rho_1} \\frac{\\partial^2 h^{\\prime}}{\\partial x^2} \\\\\n",
    "& \\frac{\\partial^2 h^{\\prime}}{\\partial t^2}+\\left(u^2-\\frac{g+1 \\delta p}{\\rho_1}\\right) \\frac{\\partial^2 h^{\\prime}}{\\partial x^2}=0 \\\\\n",
    "& h^{\\prime} \\equiv h\n",
    "\\end{aligned}\n",
    "$$\n",
    "phase speed, $c: \\quad c=u \\pm \\sqrt{g H}$  \n",
    "\n",
    "Upper and lower layers are water and air. So, $\\partial \\rho_1 \\approx \\rho_1 $\n",
    "\n",
    "$\\sqrt{\\mathrm{g} H} \\approx 200 \\mathrm{~m} / \\mathrm{s}$ when $H=4 \\mathrm{~km}$ as produced by large-scale disturbances, not wind\n",
    "\n",
    " $\\frac{\\partial^2 h}{\\partial t^2}+c \\frac{\\partial^2 h}{\\partial x^2}=0$\n",
    "\n",
    "We will use this derivation to produce a simple two-dimensional model that has a flux boundary condition and a free surface. \n",
    "\n",
    "\n"
   ]
  },
  {
   "cell_type": "markdown",
   "id": "31364d0c",
   "metadata": {},
   "source": [
    "$$ \\begin{align} u^{n+1}_i &= -u^{n-1}_i + 2u^n_i + 2C^2 \\left(u^{n}_{i+1}-u^{n}_{i}\\right),\\quad i=0\\\\ u^{n+1}_i &= -u^{n-1}_i + 2u^n_i + 2C^2 \\left(u^{n}_{i-1}-u^{n}_{i}\\right),\\quad i=N_x \\end{align} $$\n"
   ]
  },
  {
   "cell_type": "markdown",
   "id": "10be7300",
   "metadata": {},
   "source": [
    "## Equations\n",
    "# "
   ]
  },
  {
   "cell_type": "markdown",
   "id": "2106c993",
   "metadata": {},
   "source": [
    "## Numerical Methods"
   ]
  },
  {
   "cell_type": "code",
   "execution_count": 1,
   "id": "b0957ba9",
   "metadata": {},
   "outputs": [],
   "source": [
    "import numpy as np\n",
    "import matplotlib.pyplot as plt\n",
    "from scipy.sparse import spdiags\n",
    "import matplotlib\n",
    "import matplotlib.animation as animation\n",
    "matplotlib.use(\"TkAgg\")"
   ]
  },
  {
   "cell_type": "code",
   "execution_count": 10,
   "id": "466bb1da",
   "metadata": {},
   "outputs": [],
   "source": [
    "# parameters\n",
    "\n",
    "xf = 24900*1000 #(m) circumference of earth at equator\n",
    "xt = xf/2 #where you want the second wave speed to start\n",
    "tf = 7*24*3600 #(s) 7 days in seconds\n",
    "gH = 200 #(m/s) zonal wave speed in shallow water (4km)\n",
    "\n",
    "# grid\n",
    "dx = 24900\n",
    "dt = 60\n",
    "#dt = C*dx/c \n",
    "x = np.arange(0,xf,dx)\n",
    "t = np.arange(0,tf,dt)\n",
    "\n",
    "nx = len(x)\n",
    "nt = len(t)\n",
    "\n",
    "uv1 = 10 #average zonal velocity\n",
    "\n",
    "# uv1 = 10 #average zonal velocity\n",
    "# uv2 = -10 #average zonal velocity\n",
    "\n",
    "# wave speed\n",
    "c1 = (uv1 + gH)\n",
    "c2 = (uv1 - gH)\n",
    "\n",
    "# changing wave speed\n",
    "lam = np.zeros(nx) #this is the lambda matrix\n",
    "lam[x<=xt] = c1*dt/dx #sets the first half of space to have wave speed 1\n",
    "lam[x>xt] = c2*dt/dx #sets the second half of space to have wave speed 2\n",
    "\n",
    "# initial condition \n",
    "u1 = np.nan*np.ones([nx,nt])\n",
    "u1[:,0] = np.exp(-(x[:]-0)**2 / 2) ## we have to initialize both 0th and 1th because of\n",
    "u1[:,1] = np.exp(-(x[:]-0)**2 / 2) ## the presence of k-1 in the numerical equation. implies du/dt at t=0, =0\n",
    "\n",
    "# matrices\n",
    "data1 = np.array([(lam**2)*np.ones(nx), 2*(1-lam**2)*np.ones(nx), (lam**2)*np.ones(nx)])\n",
    "diags1 = np.array([-1, 0, 1])\n",
    "M = spdiags(data1, diags1, nx, nx).toarray()\n",
    "\n",
    "#Reflective BC\n",
    "M[0,0] = 2-lam[0]**2\n",
    "M[nx-1,nx-1] = 2-lam[nx-1]**2\n",
    "\n",
    "#Mirror BC\n",
    "# M1[nx-1, nx-2] = 0\n",
    "# M1[nx-1,nx-1] = 1\n",
    "\n",
    "#Flux BC"
   ]
  },
  {
   "cell_type": "code",
   "execution_count": 11,
   "id": "7a9644c6",
   "metadata": {
    "scrolled": true
   },
   "outputs": [],
   "source": [
    "# solve\n",
    "for i in range(1,nt-1):\n",
    "    u1[:,i+1] = M @ u1[:,i] - u1[:,i-1]"
   ]
  },
  {
   "cell_type": "markdown",
   "id": "8ba5617d",
   "metadata": {},
   "source": [
    "## Results"
   ]
  },
  {
   "cell_type": "markdown",
   "id": "2f05db69",
   "metadata": {},
   "source": [
    "## Figures"
   ]
  },
  {
   "cell_type": "code",
   "execution_count": 12,
   "id": "bd01e575",
   "metadata": {},
   "outputs": [],
   "source": [
    "fig, ax = plt.subplots(1,figsize = (8,5), dpi = 200)\n",
    "## plotting u at all space at different times\n",
    "ax.plot(x, u1[:,0])\n",
    "ax.plot(x, u1[:,10])\n",
    "ax.set_xlabel('x'); ax.set_ylabel('u');"
   ]
  },
  {
   "cell_type": "markdown",
   "id": "45552c77",
   "metadata": {},
   "source": [
    "## Video Walkthrough\n",
    "(insert video link)"
   ]
  },
  {
   "cell_type": "markdown",
   "id": "f23b9475",
   "metadata": {},
   "source": [
    "## Reference\n",
    "Holton, J. R. (2004). An introduction to dynamic meteorology. In International Geophysics (Vol. 88). https://doi.org/10.1016/s0074-6142(08)x6005-x"
   ]
  },
  {
   "cell_type": "code",
   "execution_count": 13,
   "id": "02f85069",
   "metadata": {
    "scrolled": true
   },
   "outputs": [],
   "source": [
    "# BEWARE RUNNING THIS IS CPU INTENSIVE \n",
    "fig, ax = plt.subplots()\n",
    "\n",
    "\n",
    "line, = ax.plot(x, u1[:,0]) #ADJUST THIS LINE\n",
    "ax.set_ylim([np.min(u1), np.max(u1)])\n",
    "\n",
    "def animate(i):\n",
    "    line.set_ydata(u1[:, i]) \n",
    "    return line,\n",
    "\n",
    "\n",
    "ani = animation.FuncAnimation(\n",
    "    fig, animate,frames=u1.shape[1], interval=0.0000000001) #interval is in ms based on frames saved\n",
    "\n",
    "plt.show()\n"
   ]
  },
  {
   "cell_type": "code",
   "execution_count": null,
   "id": "958e6730-603c-4a1c-89f3-aba22958f622",
   "metadata": {},
   "outputs": [],
   "source": []
  },
  {
   "cell_type": "code",
   "execution_count": null,
   "id": "6d3083ad",
   "metadata": {},
   "outputs": [],
   "source": []
  },
  {
   "cell_type": "code",
   "execution_count": null,
   "id": "5ad8edf8",
   "metadata": {},
   "outputs": [],
   "source": []
  }
 ],
 "metadata": {
  "kernelspec": {
   "display_name": "Python 3 (ipykernel)",
   "language": "python",
   "name": "python3"
  },
  "language_info": {
   "codemirror_mode": {
    "name": "ipython",
    "version": 3
   },
   "file_extension": ".py",
   "mimetype": "text/x-python",
   "name": "python",
   "nbconvert_exporter": "python",
   "pygments_lexer": "ipython3",
   "version": "3.11.5"
  }
 },
 "nbformat": 4,
 "nbformat_minor": 5
}
