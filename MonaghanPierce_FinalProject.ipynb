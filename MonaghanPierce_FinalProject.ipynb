{
 "cells": [
  {
   "cell_type": "markdown",
   "id": "d7808e1b",
   "metadata": {},
   "source": [
    "# Introduction\n",
    "Shallow water gravity waves are horizontally propagating oscillations produced by large-scale disturbances and they can only exist in the presence of a free surface or a density discontinuity (thermocline). In this case study, the fluid has a free surface that experiences upward and downward perturbations. The perturbations create a sinusoidal pattern moving at some velocity, *u*.\n",
    "\n",
    "We assume that the two fluids are incrompressible in order to excluse sound waves and isolate gravity waves.\n",
    "\n",
    "The perturbation forms below are useful for this situation.\n",
    "\n",
    "$u=\\bar{u}+u^{\\prime}, \\quad h=H+h^{\\prime}$\n",
    "\n",
    "H is the mean depth of the lower layer and \\bar{u} is a constant basic state zonal velocity. \n",
    "\n",
    "We are solving equation 7.22 from Holton's *An Introduction to Dynamic Meteorology* (2004): \n",
    "\n",
    "$$\n",
    "\\left(\\frac{\\partial}{\\partial t}+\\bar{u} \\frac{\\partial}{\\partial x}\\right)^2 h^{\\prime}-\\frac{g H \\delta \\rho}{\\rho_1} \\frac{\\partial^2 h^{\\prime}}{\\partial x^2}=0 \n",
    "$$\n",
    "Expansion yields can be used to cancel terms in the first parenthesis: \n",
    "$$\n",
    "\\begin{aligned}\n",
    "\n",
    "\n",
    "& \\left(\\frac{\\partial^2}{\\partial t^2}+u^2 \\frac{\\partial^2}{\\partial x^2}\\right) h^{\\prime}-\\frac{g H \\delta p}{\\rho_1} \\frac{\\partial^2 h^{\\prime}}{\\partial x^2} \\\\\n",
    "& \\frac{\\partial^2 h^1}{\\partial t^2}+u^2 \\frac{\\partial^2 h^{\\prime}}{\\partial x^2}-\\frac{g+1 \\delta \\rho}{\\rho_1} \\frac{\\partial^2 h^{\\prime}}{\\partial x^2} \\\\\n",
    "& \\frac{\\partial^2 h^{\\prime}}{\\partial t^2}+\\left(u^2-\\frac{g+1 \\delta p}{\\rho_1}\\right) \\frac{\\partial^2 h^{\\prime}}{\\partial x^2}=0 \\\\\n",
    "& h^{\\prime} \\equiv h\n",
    "\\end{aligned}\n",
    "$$\n",
    "phase speed, $c: \\quad c=u \\pm \\sqrt{g H}$  \n",
    "\n",
    "Upper and lower layers are water and air. So, $\\partial \\rho_1 \\approx \\rho_1 $\n",
    "\n",
    "$\\sqrt{\\mathrm{g} H} \\approx 200 \\mathrm{~m} / \\mathrm{s}$ when $H=4 \\mathrm{~km}$ as produced by large-scale disturbances, not wind\n",
    "\n",
    " $\\frac{\\partial^2 h}{\\partial t^2}+c \\frac{\\partial^2 h}{\\partial x^2}=0$\n",
    "\n",
    "We will use this derivation to produce a simple two-dimensional model that has a flux boundary condition and a free surface. \n",
    "\n",
    "\n"
   ]
  },
  {
   "cell_type": "markdown",
   "id": "31364d0c",
   "metadata": {},
   "source": [
    "$$ \\begin{align} u^{n+1}_i &= -u^{n-1}_i + 2u^n_i + 2C^2 \\left(u^{n}_{i+1}-u^{n}_{i}\\right),\\quad i=0\\\\ u^{n+1}_i &= -u^{n-1}_i + 2u^n_i + 2C^2 \\left(u^{n}_{i-1}-u^{n}_{i}\\right),\\quad i=N_x \\end{align} $$\n"
   ]
  },
  {
   "cell_type": "markdown",
   "id": "10be7300",
   "metadata": {},
   "source": [
    "## Equations\n",
    "# "
   ]
  },
  {
   "cell_type": "markdown",
   "id": "2106c993",
   "metadata": {},
   "source": [
    "## Numerical Methods"
   ]
  },
  {
   "cell_type": "code",
   "execution_count": 1,
   "id": "b0957ba9",
   "metadata": {},
   "outputs": [],
   "source": [
    "import numpy as np\n",
    "import matplotlib.pyplot as plt\n",
    "from scipy.sparse import spdiags\n",
    "import matplotlib\n",
    "import matplotlib.animation as animation\n",
    "matplotlib.use(\"TkAgg\")"
   ]
  },
  {
   "cell_type": "code",
   "execution_count": 2,
   "id": "466bb1da",
   "metadata": {},
   "outputs": [
    {
     "name": "stdout",
     "output_type": "stream",
     "text": [
      "249 87\n"
     ]
    }
   ],
   "source": [
    "# parameters\n",
    "xf = 24900*1000 #(m) circumference of earth at equator\n",
    "tf = 24*3600 #(s) 1 day in seconds\n",
    "gH = 200 #(m/s) zonal wave speed in shallow water (4km)\n",
    "\n",
    "# grid\n",
    "dx = 100000\n",
    "dt =1000\n",
    "#dt = C*dx/c \n",
    "x = np.arange(0,xf,dx)\n",
    "t = np.arange(0,tf,dt)\n",
    "\n",
    "nx = len(x)\n",
    "nt = len(t)\n",
    "\n",
    "uv1 = 10 #average zonal velocity\n",
    "uv2 = -10 #average zonal velocity\n",
    "\n",
    "# wave speed\n",
    "c1 = (uv1 + gH)\n",
    "c2 = (uv2 - gH)\n",
    "\n",
    "# changing wave speed\n",
    "lam1 = np.zeros(nx)\n",
    "for i in np.arange(nx):\n",
    "    lam1[i] = c1*dt/dx\n",
    "\n",
    "lam2 = np.zeros(nx) \n",
    "for i in np.arange(nx):\n",
    "    lam2[i] = c2*dt/dx \n",
    "\n",
    "# initial condition \n",
    "u1 = np.nan*np.ones([nx,nt])\n",
    "u1[:,0] = np.exp(-(x**2) / 2) #unsure about initial conditions should be\n",
    "u1[:,1] = np.exp(-(x**2) / 2)\n",
    "\n",
    "u2 = np.nan*np.ones([nx,nt])\n",
    "u2[:,0] = np.exp(-(x**2) / 2) #unsure about initial conditions should be\n",
    "u2[:,1] = np.exp(-(x**2) / 2)\n",
    "\n",
    "# matrices\n",
    "data1 = np.array([(lam1**2)*np.ones(nx), 2*(1-lam1**2)*np.ones(nx), (lam1**2)*np.ones(nx)])\n",
    "diags1 = np.array([-1, 0, 1])\n",
    "M1 = spdiags(data1, diags1, nx, nx).toarray()\n",
    "\n",
    "data2 = np.array([(lam2**2)*np.ones(nx), 2*(1-lam2**2)*np.ones(nx), (lam2**2)*np.ones(nx)])\n",
    "diags2 = np.array([-1, 0, 1])\n",
    "M2 = spdiags(data2, diags2, nx, nx).toarray()\n",
    "\n",
    "#Reflective BC\n",
    "\n",
    "M1[0,0]= 2 - lam1[0]**2\n",
    "M1[nx-1,nx-1] = 2 - lam1[-1]**2\n",
    "\n",
    "M2[0,0]= 2 - lam2[0]**2\n",
    "M2[nx-1,nx-1] = 2 - lam2[-1]**2\n",
    "\n",
    "#Flux BC \n",
    "'''\n",
    "M1[0,0]= 2 - lam1[0]**2\n",
    "M1[nx-1,nx-1] = 2 - lam1[-1]**2\n",
    "\n",
    "M2[0,0]= 2 - lam2[0]**2\n",
    "M2[nx-1,nx-1] = 2 - lam2[-1]**2\n",
    "'''\n",
    "\n",
    "print(len(x), len(t))"
   ]
  },
  {
   "cell_type": "code",
   "execution_count": 3,
   "id": "7a9644c6",
   "metadata": {
    "scrolled": true
   },
   "outputs": [],
   "source": [
    "# solve\n",
    "for k in np.arange(nt-2):\n",
    "    u1[:,k+2] = np.matmul(M1,u1[:,k+1]) - u1[:,k]\n",
    "for k in np.arange(nt-2):\n",
    "    u2[:,k+2] = np.matmul(M2,u2[:,k+1]) - u2[:,k]"
   ]
  },
  {
   "cell_type": "markdown",
   "id": "8ba5617d",
   "metadata": {},
   "source": [
    "## Results"
   ]
  },
  {
   "cell_type": "markdown",
   "id": "2f05db69",
   "metadata": {},
   "source": [
    "## Figures"
   ]
  },
  {
   "cell_type": "code",
   "execution_count": 4,
   "id": "bd01e575",
   "metadata": {},
   "outputs": [
    {
     "data": {
      "text/plain": [
       "Text(0, 0.5, 'u')"
      ]
     },
     "execution_count": 4,
     "metadata": {},
     "output_type": "execute_result"
    }
   ],
   "source": [
    "plt.plot(x,u1[:,30]) # I think that these are the same and may be redundant \n",
    "plt.plot(x,u2[:,30])\n",
    "plt.xlabel(\"X-Position\")\n",
    "plt.ylabel(\"u\")"
   ]
  },
  {
   "cell_type": "markdown",
   "id": "45552c77",
   "metadata": {},
   "source": [
    "## Video Walkthrough\n",
    "(insert video link)"
   ]
  },
  {
   "cell_type": "markdown",
   "id": "f23b9475",
   "metadata": {},
   "source": [
    "## Reference\n",
    "Holton, J. R. (2004). An introduction to dynamic meteorology. In International Geophysics (Vol. 88). https://doi.org/10.1016/s0074-6142(08)x6005-x"
   ]
  },
  {
   "cell_type": "code",
   "execution_count": 5,
   "id": "02f85069",
   "metadata": {},
   "outputs": [
    {
     "name": "stderr",
     "output_type": "stream",
     "text": [
      "invalid command name \"4588599616_on_timer\"\n",
      "    while executing\n",
      "\"4588599616_on_timer\"\n",
      "    (\"after\" script)\n"
     ]
    }
   ],
   "source": [
    "# BEWARE RUNNING THIS CPU INTENSIVE \n",
    "fig, ax = plt.subplots()\n",
    "\n",
    "\n",
    "line, = ax.plot(x, u1[:,0]) #ADJUST THIS LINE\n",
    "ax.set_ylim([np.min(u1), np.max(u1)])\n",
    "\n",
    "def animate(i):\n",
    "    line.set_ydata(u1[:, i]) \n",
    "    return line,\n",
    "\n",
    "\n",
    "ani = animation.FuncAnimation(\n",
    "    fig, animate,frames=u1.shape[1], interval=0.0000000001) #interval is in ms based on frames saved\n",
    "\n",
    "\n",
    "plt.show()\n"
   ]
  },
  {
   "cell_type": "code",
   "execution_count": null,
   "id": "958e6730-603c-4a1c-89f3-aba22958f622",
   "metadata": {},
   "outputs": [],
   "source": []
  }
 ],
 "metadata": {
  "kernelspec": {
   "display_name": "Python 3 (ipykernel)",
   "language": "python",
   "name": "python3"
  },
  "language_info": {
   "codemirror_mode": {
    "name": "ipython",
    "version": 3
   },
   "file_extension": ".py",
   "mimetype": "text/x-python",
   "name": "python",
   "nbconvert_exporter": "python",
   "pygments_lexer": "ipython3",
   "version": "3.10.6"
  }
 },
 "nbformat": 4,
 "nbformat_minor": 5
}
